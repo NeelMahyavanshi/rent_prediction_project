{
 "cells": [
  {
   "cell_type": "code",
   "execution_count": 2,
   "metadata": {},
   "outputs": [],
   "source": [
    "from bs4 import BeautifulSoup\n",
    "import requests\n",
    "import pandas as pd\n",
    "\n",
    "url = \"https://www.toronto.ca/city-government/data-research-maps/neighbourhoods-communities/neighbourhood-profiles/about-toronto-neighbourhoods/\"\n"
   ]
  },
  {
   "cell_type": "code",
   "execution_count": 3,
   "metadata": {},
   "outputs": [],
   "source": [
    "# read HTML tables from URL\n",
    "tables = pd.read_html(url)"
   ]
  },
  {
   "cell_type": "code",
   "execution_count": 24,
   "metadata": {},
   "outputs": [
    {
     "data": {
      "text/plain": [
       "0                 West Humber-Clairville\n",
       "1      Mount Olive-Silverstone-Jamestown\n",
       "2           Thistletown-Beaumond Heights\n",
       "3                        Rexdale-Kipling\n",
       "4                       Elms-Old Rexdale\n",
       "                     ...                \n",
       "153                   Yonge-Bay Corridor\n",
       "154             Junction-Wallace Emerson\n",
       "155                   Dovercourt Village\n",
       "156                        North Toronto\n",
       "157            South Eglinton-Davisville\n",
       "Name: Neighbourhood, Length: 158, dtype: object"
      ]
     },
     "execution_count": 24,
     "metadata": {},
     "output_type": "execute_result"
    }
   ],
   "source": [
    "neighbourhoods = tables[0][\"Neighbourhood\"]\n",
    "neighbourhoods"
   ]
  },
  {
   "cell_type": "code",
   "execution_count": 36,
   "metadata": {},
   "outputs": [
    {
     "data": {
      "text/plain": [
       "[]"
      ]
     },
     "execution_count": 36,
     "metadata": {},
     "output_type": "execute_result"
    }
   ],
   "source": [
    "from selenium import webdriver\n",
    "from selenium.webdriver.common.by import By\n",
    "from selenium.webdriver.chrome.service import Service\n",
    "from selenium.webdriver.common.keys import Keys\n",
    "from webdriver_manager.chrome import ChromeDriverManager  # Optional: for automatic driver management\n",
    "\n",
    "# Initialize ChromeDriver Service\n",
    "service = Service(ChromeDriverManager().install())  # Automatic management of ChromeDriver\n",
    "\n",
    "# Initialize the WebDriver with the service\n",
    "driver = webdriver.Chrome(service=service)\n",
    "\n",
    "# Automate a website\n",
    "\n",
    "# Runnig loop on the pages of the website\n",
    "\n",
    "listing_list = []\n",
    "\n",
    "for pagination in range(1, 630):\n",
    "    driver.get(f\"https://rentals.ca/toronto?bbox=-80.01902,43.37137,-78.74735,43.93376&p={pagination}&sort=updated\")\n",
    "\n",
    "    links_finder = driver.find_elements(By.CLASS_NAME, \"listing-card__details-link\")\n",
    "\n",
    "    for links in links_finder:\n",
    "        listing_list.append(links.get_attribute(\"href\") )\n",
    "\n",
    "\n",
    "listing_list\n",
    "# Close the browser\n",
    "# driver.quit()\n"
   ]
  },
  {
   "cell_type": "code",
   "execution_count": null,
   "metadata": {},
   "outputs": [],
   "source": []
  }
 ],
 "metadata": {
  "kernelspec": {
   "display_name": "rent_predict",
   "language": "python",
   "name": "python3"
  },
  "language_info": {
   "codemirror_mode": {
    "name": "ipython",
    "version": 3
   },
   "file_extension": ".py",
   "mimetype": "text/x-python",
   "name": "python",
   "nbconvert_exporter": "python",
   "pygments_lexer": "ipython3",
   "version": "3.13.1"
  }
 },
 "nbformat": 4,
 "nbformat_minor": 2
}
